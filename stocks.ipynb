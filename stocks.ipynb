{
 "cells": [
  {
   "cell_type": "markdown",
   "metadata": {},
   "source": [
    "# Stock Trades by Members of the US House of Representatives"
   ]
  },
  {
   "cell_type": "markdown",
   "metadata": {},
   "source": [
    "# Summary of Findings\n",
    "\n",
    "\n",
    "### Introduction\n",
    "\n",
    "This project builds on the projectexploration of the 'House Stock Watcher\" data set. This uses the same data set along with the additional Party Affiliation data inserted in previous project. In continuation we now attempt explore a prediction problem involving the same data set. \n",
    "\n",
    "We will attempt to form a <b> prediction of the Party Affiliation of a given Individual representative, given their stock trading hitsory.</b>\n",
    "\n",
    "The above prediction represents a <b>_'Classification Problem'_</b> , where out target variable will be the Party of the representative, as recorded in the <b> party </b> of our dataset. Our evalutation metrics will be the <b>_representative , ticker , type _</b> columns.\n",
    "\n",
    "The metric we will use to judge the prediction will be _**accuracy**_.\n",
    "\n",
    "This is because there are no real ethical concerns that would make us want to use measures like precision or return on this data set, it is merely concerned with making a prediction on the party of a representative.\n",
    "Any False Negative or False Positives predicted by this model would not lead to any life-threatening or ethically concerning isses, therefore it is appropriate to just check for the accuracy of our model.\n",
    "\n",
    "\n",
    "### Baseline Model\n",
    "The baseline model of this project contains a total of 4 nominal features: \n",
    "\n",
    "* <b>representative</b>\n",
    "* <b>ticker</b>\n",
    "* <b>type</b>\n",
    "* <b>party</b>\n",
    "\n",
    "We utilized these columns for this project with belief that we can predict <b>party</b> using the values contained in of <b>(Representative</b>, <b>ticker</b>, <b>type)</b> and \n",
    "\n",
    "<b>Feature Engineering</b> is as follows:\n",
    "\n",
    "We omitted null and \"Libertarian\" for the party columns and concentrate on the two biggest groupings, \"Democrat\" and \"Republican\". We converted the <b>party</b> and <b>ticker</b> data into a <b>Binary format</b> using <b>\"Binarizer\"</b> with \"R\" set to 1 and \"D\" set to 0.\n",
    "\n",
    "Similarly we convert the <b> type </b> column into a binary format as well. This is done because there are 5 types of stock trades, 4 of which were variants of *sale*. As a result we found it prudent to treat all variations as just 'sales'. Lastly, we convert the column into a binary format by setting the \"type\" column to 1 when it is \"purchase\" and to 0 otherwise.\n",
    "\n",
    "Since the representative and ticker columns contain data which are multi-categorical, we changed these columns using \"<b>OneHot Encoding</b>,\" which divides a category feature into a number of binary features, to make sure the numbers are presented correctly for the sake of our exploration. OneHot Encoding will only contain a 1 for one of the onehot encoded columns while the rest will contain a 0 in any given row because we wanted to have all data encoded with binary format without losing any data.\n",
    "\n",
    "Finally we incorporate all of these 'engineered' features into a <b>Pipeline</b> object:\n",
    "\n",
    "Inside of the Pipeline, we incorporate our <b>OneHot Encoder</b> and used a <b>RandomForestClassifier</b> as the predicting feature of our model. \n",
    "\n",
    "Using this model, our **accuracy scores** are as follows:\n",
    "\n",
    "* Baseline Training set Accuracy*: **79%**\n",
    "\n",
    "* Baseline Test set Accuracy*: **80%**\n",
    "\n",
    "### Final Model\n",
    "\n",
    "In this section we attmpt to determine whether or not we could increase accuracy score in this Final Model. \n",
    "\n",
    "One of the ways through which we can improve our model is <b>adjusting hyperparameters</b> on our <b>RandomForestClassifier</b> class . In our Baseline Model, the hyperparameters we feed into our Random ForestClassfier() were:\n",
    "\n",
    "* max_depth* = 7\n",
    "* n_estimators* = 7 \n",
    "\n",
    "We wanted to see if there was a better combination of these hyperparamters to improve the accuracy of prediciotn model. To achive this, we used <b>GridSearchCV</b>. \n",
    "\n",
    "GridSearchCV performs k-fold cross-validation to identify the set of hyperparameters that provides the best validation performance on average from arrays that we created for hyperparameters. \n",
    "Upon fitting our training sets on this GridSearchCV() object we use *grids.best_params_* t0 obtain the best combination of hyperparameters:\n",
    "\n",
    "* max_depth* = 92\n",
    "* n_estimators* = 44\n",
    "\n",
    "Using these parameters above allows to obtain a much higher accuracy score from our model:\n",
    "\n",
    "* Final Training set Accuracy*: **99.8%**\n",
    "\n",
    "* Final Test set Accuracy*: **99.6%**\n",
    "\n",
    "These above results imply a satisfactory level of Accuracy for our developed predictive model.\n",
    "\n",
    "\n",
    "### Fairness Evaluation\n",
    "\n",
    "\n",
    "To evaluate the Fairness of our model we explore the question of whether the predictions of the model was _**fair**_ , i.e they did not predict one subset of our data better than another.\n",
    "\n",
    "We explore the fiarness on the **type** column of stock trades that took place. As explained earlier, we Binarized the values in type to only inlcude  0 and 1 , representing *Sale* and *Purchase*.\n",
    "\n",
    "We then used a permutation test to test for fairness. Our Null and Alternate Hypotheses are as follows:\n",
    "\n",
    "* <b>Null Hypothesis</b>: This model is fair; the accuracy for the type two subsets are roughly the same\n",
    "\n",
    "* <b>Alternative Hypothesis</b>: This model is unfair; the accuracy for the purchase subset is higher than the sale subset\n",
    "\n",
    "We performed <b>Permutation Test</b> 10,000 times with a 95% confidence interval, and the results show that our p value is**0.17**. \n",
    "\n",
    "This number exceeds the 0.05 value that a 95% confidence interval suggests. We fail to <b>reject the null hypothesis</b> as a consequence, suggesting that our model is reasonably fair for the **type** column, and does not predict one subgroup of **type** better than another.\n",
    "\n"
   ]
  },
  {
   "cell_type": "markdown",
   "metadata": {},
   "source": [
    "# Code"
   ]
  },
  {
   "cell_type": "code",
   "execution_count": 1,
   "metadata": {},
   "outputs": [],
   "source": [
    "import matplotlib.pyplot as plt\n",
    "import numpy as np\n",
    "import os\n",
    "import pandas as pd\n",
    "import seaborn as sns\n",
    "%matplotlib inline\n",
    "%config InlineBackend.figure_format = 'retina'  # Higher resolution figures"
   ]
  },
  {
   "cell_type": "markdown",
   "metadata": {},
   "source": [
    "### Baseline Model"
   ]
  },
  {
   "cell_type": "code",
   "execution_count": 2,
   "metadata": {},
   "outputs": [
    {
     "name": "stdout",
     "output_type": "stream",
     "text": [
      "1\n"
     ]
    },
    {
     "name": "stderr",
     "output_type": "stream",
     "text": [
      "C:\\Users\\HANSUNG\\anaconda3\\envs\\dsc80\\lib\\site-packages\\pandas\\core\\indexing.py:1732: SettingWithCopyWarning: \n",
      "A value is trying to be set on a copy of a slice from a DataFrame\n",
      "\n",
      "See the caveats in the documentation: https://pandas.pydata.org/pandas-docs/stable/user_guide/indexing.html#returning-a-view-versus-a-copy\n",
      "  self._setitem_single_block(indexer, value, name)\n"
     ]
    },
    {
     "data": {
      "text/html": [
       "<div>\n",
       "<style scoped>\n",
       "    .dataframe tbody tr th:only-of-type {\n",
       "        vertical-align: middle;\n",
       "    }\n",
       "\n",
       "    .dataframe tbody tr th {\n",
       "        vertical-align: top;\n",
       "    }\n",
       "\n",
       "    .dataframe thead th {\n",
       "        text-align: right;\n",
       "    }\n",
       "</style>\n",
       "<table border=\"1\" class=\"dataframe\">\n",
       "  <thead>\n",
       "    <tr style=\"text-align: right;\">\n",
       "      <th></th>\n",
       "      <th>disclosure_year</th>\n",
       "      <th>disclosure_date</th>\n",
       "      <th>transaction_date</th>\n",
       "      <th>owner</th>\n",
       "      <th>ticker</th>\n",
       "      <th>asset_description</th>\n",
       "      <th>type</th>\n",
       "      <th>amount</th>\n",
       "      <th>representative</th>\n",
       "      <th>district</th>\n",
       "      <th>ptr_link</th>\n",
       "      <th>cap_gains_over_200_usd</th>\n",
       "    </tr>\n",
       "  </thead>\n",
       "  <tbody>\n",
       "    <tr>\n",
       "      <th>0</th>\n",
       "      <td>2021</td>\n",
       "      <td>2021-10-04</td>\n",
       "      <td>2021-09-27</td>\n",
       "      <td>joint</td>\n",
       "      <td>BP</td>\n",
       "      <td>BP plc</td>\n",
       "      <td>purchase</td>\n",
       "      <td>$1,001 - $15,000</td>\n",
       "      <td>Virginia Foxx</td>\n",
       "      <td>NC05</td>\n",
       "      <td>https://disclosures-clerk.house.gov/public_dis...</td>\n",
       "      <td>False</td>\n",
       "    </tr>\n",
       "    <tr>\n",
       "      <th>1</th>\n",
       "      <td>2021</td>\n",
       "      <td>2021-10-04</td>\n",
       "      <td>2021-09-13</td>\n",
       "      <td>joint</td>\n",
       "      <td>XOM</td>\n",
       "      <td>Exxon Mobil Corporation</td>\n",
       "      <td>purchase</td>\n",
       "      <td>$1,001 - $15,000</td>\n",
       "      <td>Virginia Foxx</td>\n",
       "      <td>NC05</td>\n",
       "      <td>https://disclosures-clerk.house.gov/public_dis...</td>\n",
       "      <td>False</td>\n",
       "    </tr>\n",
       "    <tr>\n",
       "      <th>2</th>\n",
       "      <td>2021</td>\n",
       "      <td>2021-10-04</td>\n",
       "      <td>2021-09-10</td>\n",
       "      <td>joint</td>\n",
       "      <td>ILPT</td>\n",
       "      <td>Industrial Logistics Properties Trust - Common...</td>\n",
       "      <td>purchase</td>\n",
       "      <td>$15,001 - $50,000</td>\n",
       "      <td>Virginia Foxx</td>\n",
       "      <td>NC05</td>\n",
       "      <td>https://disclosures-clerk.house.gov/public_dis...</td>\n",
       "      <td>False</td>\n",
       "    </tr>\n",
       "    <tr>\n",
       "      <th>3</th>\n",
       "      <td>2021</td>\n",
       "      <td>2021-10-04</td>\n",
       "      <td>2021-09-28</td>\n",
       "      <td>joint</td>\n",
       "      <td>PM</td>\n",
       "      <td>Phillip Morris International Inc</td>\n",
       "      <td>purchase</td>\n",
       "      <td>$15,001 - $50,000</td>\n",
       "      <td>Virginia Foxx</td>\n",
       "      <td>NC05</td>\n",
       "      <td>https://disclosures-clerk.house.gov/public_dis...</td>\n",
       "      <td>False</td>\n",
       "    </tr>\n",
       "    <tr>\n",
       "      <th>4</th>\n",
       "      <td>2021</td>\n",
       "      <td>2021-10-04</td>\n",
       "      <td>2021-09-17</td>\n",
       "      <td>self</td>\n",
       "      <td>BLK</td>\n",
       "      <td>BlackRock Inc</td>\n",
       "      <td>sale_partial</td>\n",
       "      <td>$1,001 - $15,000</td>\n",
       "      <td>Alan S. Lowenthal</td>\n",
       "      <td>CA47</td>\n",
       "      <td>https://disclosures-clerk.house.gov/public_dis...</td>\n",
       "      <td>False</td>\n",
       "    </tr>\n",
       "  </tbody>\n",
       "</table>\n",
       "</div>"
      ],
      "text/plain": [
       "   disclosure_year disclosure_date transaction_date  owner ticker  \\\n",
       "0             2021      2021-10-04       2021-09-27  joint     BP   \n",
       "1             2021      2021-10-04       2021-09-13  joint    XOM   \n",
       "2             2021      2021-10-04       2021-09-10  joint   ILPT   \n",
       "3             2021      2021-10-04       2021-09-28  joint     PM   \n",
       "4             2021      2021-10-04       2021-09-17   self    BLK   \n",
       "\n",
       "                                   asset_description          type  \\\n",
       "0                                             BP plc      purchase   \n",
       "1                            Exxon Mobil Corporation      purchase   \n",
       "2  Industrial Logistics Properties Trust - Common...      purchase   \n",
       "3                   Phillip Morris International Inc      purchase   \n",
       "4                                      BlackRock Inc  sale_partial   \n",
       "\n",
       "              amount     representative district  \\\n",
       "0   $1,001 - $15,000      Virginia Foxx     NC05   \n",
       "1   $1,001 - $15,000      Virginia Foxx     NC05   \n",
       "2  $15,001 - $50,000      Virginia Foxx     NC05   \n",
       "3  $15,001 - $50,000      Virginia Foxx     NC05   \n",
       "4   $1,001 - $15,000  Alan S. Lowenthal     CA47   \n",
       "\n",
       "                                            ptr_link  cap_gains_over_200_usd  \n",
       "0  https://disclosures-clerk.house.gov/public_dis...                   False  \n",
       "1  https://disclosures-clerk.house.gov/public_dis...                   False  \n",
       "2  https://disclosures-clerk.house.gov/public_dis...                   False  \n",
       "3  https://disclosures-clerk.house.gov/public_dis...                   False  \n",
       "4  https://disclosures-clerk.house.gov/public_dis...                   False  "
      ]
     },
     "execution_count": 2,
     "metadata": {},
     "output_type": "execute_result"
    }
   ],
   "source": [
    "## IMPORTING THE DATASET FROM THE WEBSITE:\n",
    "import requests\n",
    "url= 'https://house-stock-watcher-data.s3-us-west-2.amazonaws.com/data/all_transactions.json'\n",
    "json = requests.get(url).json()\n",
    "df= pd.DataFrame()\n",
    "for i in json:\n",
    "    df= df.append(i, ignore_index=True) ##CONVERTING INTO A PANDAS DATAFRAME\n",
    "    \n",
    "#CONVERTING THE COLUMNS TO THE CORRECT TYPE\n",
    "df['disclosure_date'] = pd.to_datetime(df['disclosure_date'],format = '%m/%d/%Y') # CONVERTING FROM STRING TO DATETIME\n",
    "df['transaction_date'] = pd.to_datetime(df['transaction_date'],format = '%Y-%m-%d',errors = 'coerce') #CONVERTING FROM STRING TO DATETIME\n",
    "df['disclosure_year'] = df['disclosure_date'].dt.year # CONVERTING FROM STRING TO DATETIME\n",
    "df['cap_gains_over_200_usd'] = df.cap_gains_over_200_usd.astype(bool) # CONVERTING FROM STRING TO BOOL\n",
    "\n",
    "print(1)\n",
    "df = df.replace('--', np.nan) ## REPLACING '--' STRINGS WITH np.Nan\n",
    "new = df.copy()\n",
    "\n",
    "for i in range(len(new['representative'])):\n",
    "    df['representative'].iloc[i] = \" \".join(new['representative'].iloc[i].split(\" \")[1:]) ##REMOVING THE TITLE AND RETAINING THE NAME\n",
    "\n",
    "\n",
    "df.head()"
   ]
  },
  {
   "cell_type": "code",
   "execution_count": 3,
   "metadata": {},
   "outputs": [
    {
     "data": {
      "text/html": [
       "<div>\n",
       "<style scoped>\n",
       "    .dataframe tbody tr th:only-of-type {\n",
       "        vertical-align: middle;\n",
       "    }\n",
       "\n",
       "    .dataframe tbody tr th {\n",
       "        vertical-align: top;\n",
       "    }\n",
       "\n",
       "    .dataframe thead th {\n",
       "        text-align: right;\n",
       "    }\n",
       "</style>\n",
       "<table border=\"1\" class=\"dataframe\">\n",
       "  <thead>\n",
       "    <tr style=\"text-align: right;\">\n",
       "      <th></th>\n",
       "      <th>disclosure_year</th>\n",
       "      <th>disclosure_date</th>\n",
       "      <th>transaction_date</th>\n",
       "      <th>owner</th>\n",
       "      <th>ticker</th>\n",
       "      <th>asset_description</th>\n",
       "      <th>type</th>\n",
       "      <th>amount</th>\n",
       "      <th>representative</th>\n",
       "      <th>district</th>\n",
       "      <th>ptr_link</th>\n",
       "      <th>cap_gains_over_200_usd</th>\n",
       "      <th>party</th>\n",
       "    </tr>\n",
       "  </thead>\n",
       "  <tbody>\n",
       "    <tr>\n",
       "      <th>0</th>\n",
       "      <td>2021</td>\n",
       "      <td>2021-10-04</td>\n",
       "      <td>2021-09-27</td>\n",
       "      <td>joint</td>\n",
       "      <td>BP</td>\n",
       "      <td>BP plc</td>\n",
       "      <td>purchase</td>\n",
       "      <td>$1,001 - $15,000</td>\n",
       "      <td>Virginia Foxx</td>\n",
       "      <td>NC05</td>\n",
       "      <td>https://disclosures-clerk.house.gov/public_dis...</td>\n",
       "      <td>False</td>\n",
       "      <td>R</td>\n",
       "    </tr>\n",
       "    <tr>\n",
       "      <th>1</th>\n",
       "      <td>2021</td>\n",
       "      <td>2021-10-04</td>\n",
       "      <td>2021-09-13</td>\n",
       "      <td>joint</td>\n",
       "      <td>XOM</td>\n",
       "      <td>Exxon Mobil Corporation</td>\n",
       "      <td>purchase</td>\n",
       "      <td>$1,001 - $15,000</td>\n",
       "      <td>Virginia Foxx</td>\n",
       "      <td>NC05</td>\n",
       "      <td>https://disclosures-clerk.house.gov/public_dis...</td>\n",
       "      <td>False</td>\n",
       "      <td>R</td>\n",
       "    </tr>\n",
       "    <tr>\n",
       "      <th>2</th>\n",
       "      <td>2021</td>\n",
       "      <td>2021-10-04</td>\n",
       "      <td>2021-09-10</td>\n",
       "      <td>joint</td>\n",
       "      <td>ILPT</td>\n",
       "      <td>Industrial Logistics Properties Trust - Common...</td>\n",
       "      <td>purchase</td>\n",
       "      <td>$15,001 - $50,000</td>\n",
       "      <td>Virginia Foxx</td>\n",
       "      <td>NC05</td>\n",
       "      <td>https://disclosures-clerk.house.gov/public_dis...</td>\n",
       "      <td>False</td>\n",
       "      <td>R</td>\n",
       "    </tr>\n",
       "    <tr>\n",
       "      <th>3</th>\n",
       "      <td>2021</td>\n",
       "      <td>2021-10-04</td>\n",
       "      <td>2021-09-28</td>\n",
       "      <td>joint</td>\n",
       "      <td>PM</td>\n",
       "      <td>Phillip Morris International Inc</td>\n",
       "      <td>purchase</td>\n",
       "      <td>$15,001 - $50,000</td>\n",
       "      <td>Virginia Foxx</td>\n",
       "      <td>NC05</td>\n",
       "      <td>https://disclosures-clerk.house.gov/public_dis...</td>\n",
       "      <td>False</td>\n",
       "      <td>R</td>\n",
       "    </tr>\n",
       "    <tr>\n",
       "      <th>4</th>\n",
       "      <td>2021</td>\n",
       "      <td>2021-10-04</td>\n",
       "      <td>2021-09-17</td>\n",
       "      <td>self</td>\n",
       "      <td>BLK</td>\n",
       "      <td>BlackRock Inc</td>\n",
       "      <td>sale_partial</td>\n",
       "      <td>$1,001 - $15,000</td>\n",
       "      <td>Alan S. Lowenthal</td>\n",
       "      <td>CA47</td>\n",
       "      <td>https://disclosures-clerk.house.gov/public_dis...</td>\n",
       "      <td>False</td>\n",
       "      <td>D</td>\n",
       "    </tr>\n",
       "  </tbody>\n",
       "</table>\n",
       "</div>"
      ],
      "text/plain": [
       "   disclosure_year disclosure_date transaction_date  owner ticker  \\\n",
       "0             2021      2021-10-04       2021-09-27  joint     BP   \n",
       "1             2021      2021-10-04       2021-09-13  joint    XOM   \n",
       "2             2021      2021-10-04       2021-09-10  joint   ILPT   \n",
       "3             2021      2021-10-04       2021-09-28  joint     PM   \n",
       "4             2021      2021-10-04       2021-09-17   self    BLK   \n",
       "\n",
       "                                   asset_description          type  \\\n",
       "0                                             BP plc      purchase   \n",
       "1                            Exxon Mobil Corporation      purchase   \n",
       "2  Industrial Logistics Properties Trust - Common...      purchase   \n",
       "3                   Phillip Morris International Inc      purchase   \n",
       "4                                      BlackRock Inc  sale_partial   \n",
       "\n",
       "              amount     representative district  \\\n",
       "0   $1,001 - $15,000      Virginia Foxx     NC05   \n",
       "1   $1,001 - $15,000      Virginia Foxx     NC05   \n",
       "2  $15,001 - $50,000      Virginia Foxx     NC05   \n",
       "3  $15,001 - $50,000      Virginia Foxx     NC05   \n",
       "4   $1,001 - $15,000  Alan S. Lowenthal     CA47   \n",
       "\n",
       "                                            ptr_link  cap_gains_over_200_usd  \\\n",
       "0  https://disclosures-clerk.house.gov/public_dis...                   False   \n",
       "1  https://disclosures-clerk.house.gov/public_dis...                   False   \n",
       "2  https://disclosures-clerk.house.gov/public_dis...                   False   \n",
       "3  https://disclosures-clerk.house.gov/public_dis...                   False   \n",
       "4  https://disclosures-clerk.house.gov/public_dis...                   False   \n",
       "\n",
       "  party  \n",
       "0     R  \n",
       "1     R  \n",
       "2     R  \n",
       "3     R  \n",
       "4     D  "
      ]
     },
     "execution_count": 3,
     "metadata": {},
     "output_type": "execute_result"
    }
   ],
   "source": [
    "##IMPORTING DATA ON THE PARTY AFFILIATION OF THE CANDIDATES\n",
    "\n",
    "import bs4\n",
    "import lxml\n",
    "\n",
    "url = \"https://www.house.gov/representatives\"\n",
    "text = requests.get(url).text\n",
    "soup = bs4.BeautifulSoup(text)\n",
    "tds = soup.find_all(\"td\")\n",
    "data = []\n",
    "new = []\n",
    "copy = df.copy()\n",
    "for td in tds:\n",
    "    if (\",\" in td.text) & (\"Vacancy\" in td.text):\n",
    "        #print(True,td.text)\n",
    "        continue\n",
    "    if (\",\" in td.text) &(\"Technology\" not in td.text):\n",
    "        new.append(td.text.strip())\n",
    "    if len(new) == 2:\n",
    "        data.append(new)\n",
    "        new = []\n",
    "    elif (2<len(td.text) <= 9) & ((td.text[0]==\"R\")|(td.text[0]==\"D\")):\n",
    "        new.append(td.text.strip())\n",
    "    if len(new) == 2:\n",
    "        data.append(new)\n",
    "        new = []\n",
    "    if len(data) ==438:\n",
    "        break\n",
    "\n",
    "##ADDING THE PARTY AFFILIATION COLUMN TO THE DATAFRAME\n",
    "partydf = pd.DataFrame(data = data,columns = [\"name\",\"party\"])\n",
    "partydf[\"name\"] = partydf[\"name\"].str.split(\", | \")\n",
    "for i in range(len(partydf[\"name\"])):\n",
    "    if len(partydf[\"name\"].iloc[i]) == 3:\n",
    "        temp = []\n",
    "        for j in range(3):\n",
    "            temp.append(len(partydf[\"name\"].iloc[i][j]))\n",
    "        del partydf[\"name\"].iloc[i][temp.index(min(temp))]\n",
    "representative = df.representative.unique().tolist()\n",
    "for i in range(len(partydf[\"name\"])):    \n",
    "    for realname in representative:\n",
    "        if len(partydf[\"name\"].iloc[i]) == 1:\n",
    "            if (partydf[\"name\"].iloc[i][0] in realname):\n",
    "                partydf[\"name\"].iloc[i] = realname\n",
    "        if len(partydf[\"name\"].iloc[i]) == 2:\n",
    "            if (partydf[\"name\"].iloc[i][0] in realname) & (partydf[\"name\"].iloc[i][1] in realname):\n",
    "                partydf[\"name\"].iloc[i] = realname\n",
    "        \n",
    "    if type(partydf[\"name\"].iloc[i])==list:\n",
    "        partydf[\"name\"].iloc[i] = np.nan\n",
    "        partydf[\"party\"].iloc[i] = np.nan\n",
    "finaldf = pd.merge(copy,partydf,left_on = \"representative\", right_on = \"name\",how = \"left\")\n",
    "no_party = finaldf[finaldf.representative != finaldf.name].representative.unique().tolist()\n",
    "\n",
    "# noparty_party = [\"D\",\"R\",\"D\",\"D\",\"D\",\"R\",\"R\",\"R\",\"R\",\"R\",\"D\",\"R\",\"D\",\"R\",\"R\",\"D\",\"R\",\"D\",\"No\",\"R\",\"R\",\"No\"\n",
    "# ,\"No\",\"D\",\"R\",\"D\",\"D\",\"D\",\"R\",\"R\",\"D\",\"R\",\"D\",\"R\",\"D\",\"R\",\"R\",'R',\"D\",\"R\",\"No\",\"No\",\"Libertarian\"]\n",
    "# nopartydf = pd.DataFrame()\n",
    "# nopartydf[\"name\"] = no_party\n",
    "# nopartydf[\"party\"] = noparty_party\n",
    "\n",
    "partydf = partydf.dropna().reset_index(drop=True)\n",
    "all_party = partydf.set_index(\"name\")\n",
    "partydf = pd.merge(copy,all_party,left_on = \"representative\", right_index = True,how = \"left\")\n",
    "\n",
    "partydf.head()\n"
   ]
  },
  {
   "cell_type": "markdown",
   "metadata": {},
   "source": [
    "Having reproduced a complete data set that includes the Party Affiliation of the listed Representatives. We can begin the prediction portion of this exploration\n"
   ]
  },
  {
   "cell_type": "markdown",
   "metadata": {},
   "source": [
    "Let us filter the above dataframe to only the columns that will aid us in this prediction:\n",
    "i.e. our evaluatation and target metrics: <b> representative , ticker , type </b> and <b> party </b> respectively "
   ]
  },
  {
   "cell_type": "code",
   "execution_count": 4,
   "metadata": {},
   "outputs": [
    {
     "data": {
      "text/plain": [
       "D              8956\n",
       "R              6932\n",
       "No               73\n",
       "Libertarian       3\n",
       "Name: party, dtype: int64"
      ]
     },
     "execution_count": 4,
     "metadata": {},
     "output_type": "execute_result"
    }
   ],
   "source": [
    "working_df = partydf[['representative','ticker','type', 'party']]\n",
    "working_df['party'].value_counts()"
   ]
  },
  {
   "cell_type": "markdown",
   "metadata": {},
   "source": [
    "For the purposes of this exploration we are going to ignore the Liberatarian Party as there are only 3 representatives. Removing them will allow us to treat **party** as a binary variable and thus let us train a **_binary classifier model_**."
   ]
  },
  {
   "cell_type": "code",
   "execution_count": 5,
   "metadata": {},
   "outputs": [
    {
     "data": {
      "text/plain": [
       "D    8141\n",
       "R    6413\n",
       "Name: party, dtype: int64"
      ]
     },
     "execution_count": 5,
     "metadata": {},
     "output_type": "execute_result"
    }
   ],
   "source": [
    "working_df = working_df[(working_df['party'] != 'Libertarian') & (working_df['party'] != 'No')]\n",
    "working_df = working_df.dropna()\n",
    "working_df['party'].value_counts()"
   ]
  },
  {
   "cell_type": "markdown",
   "metadata": {},
   "source": [
    "Meanwhile, for the party column, since there are only 2 main values 'R' and 'D', we chose to convert the values into a Binary format. Where we convert **_'R'_** to 1 and **_'D'_** to 0"
   ]
  },
  {
   "cell_type": "code",
   "execution_count": 6,
   "metadata": {},
   "outputs": [
    {
     "data": {
      "text/html": [
       "<div>\n",
       "<style scoped>\n",
       "    .dataframe tbody tr th:only-of-type {\n",
       "        vertical-align: middle;\n",
       "    }\n",
       "\n",
       "    .dataframe tbody tr th {\n",
       "        vertical-align: top;\n",
       "    }\n",
       "\n",
       "    .dataframe thead th {\n",
       "        text-align: right;\n",
       "    }\n",
       "</style>\n",
       "<table border=\"1\" class=\"dataframe\">\n",
       "  <thead>\n",
       "    <tr style=\"text-align: right;\">\n",
       "      <th></th>\n",
       "      <th>representative</th>\n",
       "      <th>ticker</th>\n",
       "      <th>type</th>\n",
       "      <th>party</th>\n",
       "    </tr>\n",
       "  </thead>\n",
       "  <tbody>\n",
       "    <tr>\n",
       "      <th>0</th>\n",
       "      <td>Virginia Foxx</td>\n",
       "      <td>BP</td>\n",
       "      <td>purchase</td>\n",
       "      <td>1.0</td>\n",
       "    </tr>\n",
       "    <tr>\n",
       "      <th>1</th>\n",
       "      <td>Virginia Foxx</td>\n",
       "      <td>XOM</td>\n",
       "      <td>purchase</td>\n",
       "      <td>1.0</td>\n",
       "    </tr>\n",
       "    <tr>\n",
       "      <th>2</th>\n",
       "      <td>Virginia Foxx</td>\n",
       "      <td>ILPT</td>\n",
       "      <td>purchase</td>\n",
       "      <td>1.0</td>\n",
       "    </tr>\n",
       "    <tr>\n",
       "      <th>3</th>\n",
       "      <td>Virginia Foxx</td>\n",
       "      <td>PM</td>\n",
       "      <td>purchase</td>\n",
       "      <td>1.0</td>\n",
       "    </tr>\n",
       "    <tr>\n",
       "      <th>4</th>\n",
       "      <td>Alan S. Lowenthal</td>\n",
       "      <td>BLK</td>\n",
       "      <td>sale_partial</td>\n",
       "      <td>0.0</td>\n",
       "    </tr>\n",
       "    <tr>\n",
       "      <th>...</th>\n",
       "      <td>...</td>\n",
       "      <td>...</td>\n",
       "      <td>...</td>\n",
       "      <td>...</td>\n",
       "    </tr>\n",
       "    <tr>\n",
       "      <th>15959</th>\n",
       "      <td>Ed Perlmutter</td>\n",
       "      <td>SWK</td>\n",
       "      <td>sale_partial</td>\n",
       "      <td>0.0</td>\n",
       "    </tr>\n",
       "    <tr>\n",
       "      <th>15960</th>\n",
       "      <td>Ed Perlmutter</td>\n",
       "      <td>USB</td>\n",
       "      <td>sale_partial</td>\n",
       "      <td>0.0</td>\n",
       "    </tr>\n",
       "    <tr>\n",
       "      <th>15961</th>\n",
       "      <td>Nicholas Van Taylor</td>\n",
       "      <td>BMY</td>\n",
       "      <td>sale_full</td>\n",
       "      <td>1.0</td>\n",
       "    </tr>\n",
       "    <tr>\n",
       "      <th>15962</th>\n",
       "      <td>Nicholas Van Taylor</td>\n",
       "      <td>LLY</td>\n",
       "      <td>sale_full</td>\n",
       "      <td>1.0</td>\n",
       "    </tr>\n",
       "    <tr>\n",
       "      <th>15963</th>\n",
       "      <td>Nicholas Van Taylor</td>\n",
       "      <td>DIS</td>\n",
       "      <td>sale_full</td>\n",
       "      <td>1.0</td>\n",
       "    </tr>\n",
       "  </tbody>\n",
       "</table>\n",
       "<p>14554 rows × 4 columns</p>\n",
       "</div>"
      ],
      "text/plain": [
       "            representative ticker          type  party\n",
       "0            Virginia Foxx     BP      purchase    1.0\n",
       "1            Virginia Foxx    XOM      purchase    1.0\n",
       "2            Virginia Foxx   ILPT      purchase    1.0\n",
       "3            Virginia Foxx     PM      purchase    1.0\n",
       "4        Alan S. Lowenthal    BLK  sale_partial    0.0\n",
       "...                    ...    ...           ...    ...\n",
       "15959        Ed Perlmutter    SWK  sale_partial    0.0\n",
       "15960        Ed Perlmutter    USB  sale_partial    0.0\n",
       "15961  Nicholas Van Taylor    BMY     sale_full    1.0\n",
       "15962  Nicholas Van Taylor    LLY     sale_full    1.0\n",
       "15963  Nicholas Van Taylor    DIS     sale_full    1.0\n",
       "\n",
       "[14554 rows x 4 columns]"
      ]
     },
     "execution_count": 6,
     "metadata": {},
     "output_type": "execute_result"
    }
   ],
   "source": [
    "working_df['party'] = (working_df['party'] == 'R').astype(float)\n",
    "working_df"
   ]
  },
  {
   "cell_type": "markdown",
   "metadata": {},
   "source": [
    "Similarly for the **type** columns we see that there are 5 different types:"
   ]
  },
  {
   "cell_type": "code",
   "execution_count": 7,
   "metadata": {},
   "outputs": [
    {
     "data": {
      "text/plain": [
       "purchase        7589\n",
       "sale_full       4556\n",
       "sale_partial    2302\n",
       "exchange         106\n",
       "sale               1\n",
       "Name: type, dtype: int64"
      ]
     },
     "execution_count": 7,
     "metadata": {},
     "output_type": "execute_result"
    }
   ],
   "source": [
    "working_df['type'].value_counts()"
   ]
  },
  {
   "cell_type": "markdown",
   "metadata": {},
   "source": [
    "Since it is difficult to interpret **type**  of trade as having an order of presidence, it does not make sense to treat it as an **ordnial varaible**.\n",
    "\n",
    "It would make more sense to treat *type* as more like a **binary variable** , because 4 out of our 5 types are just variations of *sale*. \n",
    "Thus will convert all the various types of sales (full,partial,exchange) into a general term: **sale** and leave the purchase rows as is. Therefore our *engineered **type** feature* would indicate a value of **1** if it was a **purchase** trade and a value of **0** if it were any of the 4 **sale** trades.\n",
    "\n",
    "We perform is transformation in a manner similar to our binary conversion of the **party** column:"
   ]
  },
  {
   "cell_type": "code",
   "execution_count": 8,
   "metadata": {},
   "outputs": [
    {
     "data": {
      "text/html": [
       "<div>\n",
       "<style scoped>\n",
       "    .dataframe tbody tr th:only-of-type {\n",
       "        vertical-align: middle;\n",
       "    }\n",
       "\n",
       "    .dataframe tbody tr th {\n",
       "        vertical-align: top;\n",
       "    }\n",
       "\n",
       "    .dataframe thead th {\n",
       "        text-align: right;\n",
       "    }\n",
       "</style>\n",
       "<table border=\"1\" class=\"dataframe\">\n",
       "  <thead>\n",
       "    <tr style=\"text-align: right;\">\n",
       "      <th></th>\n",
       "      <th>representative</th>\n",
       "      <th>ticker</th>\n",
       "      <th>type</th>\n",
       "      <th>party</th>\n",
       "    </tr>\n",
       "  </thead>\n",
       "  <tbody>\n",
       "    <tr>\n",
       "      <th>0</th>\n",
       "      <td>Virginia Foxx</td>\n",
       "      <td>BP</td>\n",
       "      <td>1.0</td>\n",
       "      <td>1.0</td>\n",
       "    </tr>\n",
       "    <tr>\n",
       "      <th>1</th>\n",
       "      <td>Virginia Foxx</td>\n",
       "      <td>XOM</td>\n",
       "      <td>1.0</td>\n",
       "      <td>1.0</td>\n",
       "    </tr>\n",
       "    <tr>\n",
       "      <th>2</th>\n",
       "      <td>Virginia Foxx</td>\n",
       "      <td>ILPT</td>\n",
       "      <td>1.0</td>\n",
       "      <td>1.0</td>\n",
       "    </tr>\n",
       "    <tr>\n",
       "      <th>3</th>\n",
       "      <td>Virginia Foxx</td>\n",
       "      <td>PM</td>\n",
       "      <td>1.0</td>\n",
       "      <td>1.0</td>\n",
       "    </tr>\n",
       "    <tr>\n",
       "      <th>4</th>\n",
       "      <td>Alan S. Lowenthal</td>\n",
       "      <td>BLK</td>\n",
       "      <td>0.0</td>\n",
       "      <td>0.0</td>\n",
       "    </tr>\n",
       "    <tr>\n",
       "      <th>...</th>\n",
       "      <td>...</td>\n",
       "      <td>...</td>\n",
       "      <td>...</td>\n",
       "      <td>...</td>\n",
       "    </tr>\n",
       "    <tr>\n",
       "      <th>15959</th>\n",
       "      <td>Ed Perlmutter</td>\n",
       "      <td>SWK</td>\n",
       "      <td>0.0</td>\n",
       "      <td>0.0</td>\n",
       "    </tr>\n",
       "    <tr>\n",
       "      <th>15960</th>\n",
       "      <td>Ed Perlmutter</td>\n",
       "      <td>USB</td>\n",
       "      <td>0.0</td>\n",
       "      <td>0.0</td>\n",
       "    </tr>\n",
       "    <tr>\n",
       "      <th>15961</th>\n",
       "      <td>Nicholas Van Taylor</td>\n",
       "      <td>BMY</td>\n",
       "      <td>0.0</td>\n",
       "      <td>1.0</td>\n",
       "    </tr>\n",
       "    <tr>\n",
       "      <th>15962</th>\n",
       "      <td>Nicholas Van Taylor</td>\n",
       "      <td>LLY</td>\n",
       "      <td>0.0</td>\n",
       "      <td>1.0</td>\n",
       "    </tr>\n",
       "    <tr>\n",
       "      <th>15963</th>\n",
       "      <td>Nicholas Van Taylor</td>\n",
       "      <td>DIS</td>\n",
       "      <td>0.0</td>\n",
       "      <td>1.0</td>\n",
       "    </tr>\n",
       "  </tbody>\n",
       "</table>\n",
       "<p>14554 rows × 4 columns</p>\n",
       "</div>"
      ],
      "text/plain": [
       "            representative ticker  type  party\n",
       "0            Virginia Foxx     BP   1.0    1.0\n",
       "1            Virginia Foxx    XOM   1.0    1.0\n",
       "2            Virginia Foxx   ILPT   1.0    1.0\n",
       "3            Virginia Foxx     PM   1.0    1.0\n",
       "4        Alan S. Lowenthal    BLK   0.0    0.0\n",
       "...                    ...    ...   ...    ...\n",
       "15959        Ed Perlmutter    SWK   0.0    0.0\n",
       "15960        Ed Perlmutter    USB   0.0    0.0\n",
       "15961  Nicholas Van Taylor    BMY   0.0    1.0\n",
       "15962  Nicholas Van Taylor    LLY   0.0    1.0\n",
       "15963  Nicholas Van Taylor    DIS   0.0    1.0\n",
       "\n",
       "[14554 rows x 4 columns]"
      ]
     },
     "execution_count": 8,
     "metadata": {},
     "output_type": "execute_result"
    }
   ],
   "source": [
    "working_df['type'] = (working_df['type'] == 'purchase').astype(float)\n",
    "working_df"
   ]
  },
  {
   "cell_type": "markdown",
   "metadata": {},
   "source": [
    "Given the above data frame, we need to perform some more <b>_'feature engineering'_</b> on the **representative , ticker**  columns to ensure that the values are are appropriately formatted for the purposes of our exploration. \n",
    "\n",
    "We will use a **OneHot Encoding** to transorm these columns as they represent multi-categorical data.\n",
    "\n",
    "Let us create a pipeline that incorporates the feature the engineering and returns a classification model. \n"
   ]
  },
  {
   "cell_type": "code",
   "execution_count": 9,
   "metadata": {},
   "outputs": [],
   "source": [
    "from sklearn.compose import ColumnTransformer\n",
    "from sklearn.pipeline import Pipeline\n",
    "from sklearn.preprocessing import StandardScaler\n",
    "from sklearn.preprocessing import Binarizer\n",
    "from sklearn.preprocessing import OneHotEncoder\n",
    "from sklearn.tree import DecisionTreeClassifier\n",
    "from sklearn.model_selection import train_test_split\n",
    "from sklearn.ensemble import RandomForestClassifier"
   ]
  },
  {
   "cell_type": "markdown",
   "metadata": {},
   "source": [
    "First we create 'Training' - 'Test' split to train and test our model. And we include only the predictive columns in our X variable"
   ]
  },
  {
   "cell_type": "code",
   "execution_count": 10,
   "metadata": {},
   "outputs": [],
   "source": [
    "categ_df = working_df[['representative','ticker', 'type']]"
   ]
  },
  {
   "cell_type": "code",
   "execution_count": 11,
   "metadata": {},
   "outputs": [],
   "source": [
    "X = categ_df\n",
    "y = working_df['party']\n",
    "\n",
    "X_train, X_test, y_train, y_test = train_test_split(X, y, random_state = 1)"
   ]
  },
  {
   "cell_type": "code",
   "execution_count": 12,
   "metadata": {},
   "outputs": [],
   "source": [
    "X_train = X_train.dropna()\n",
    "y_train = y_train.dropna()"
   ]
  },
  {
   "cell_type": "markdown",
   "metadata": {},
   "source": [
    "Given the fact that 'Representative' and 'Ticker' represent nominal data, it is helpful to OneHotEncode these values for proper prediction."
   ]
  },
  {
   "cell_type": "markdown",
   "metadata": {},
   "source": [
    "We then incorporate our One_Hot_Encoder into a Pipeline, where we use a **_RandomForectClassifier()_** as our predicting model.\n"
   ]
  },
  {
   "cell_type": "code",
   "execution_count": 13,
   "metadata": {},
   "outputs": [],
   "source": [
    "pl = Pipeline([\n",
    "    ('onehot', OneHotEncoder(handle_unknown = 'ignore')), \n",
    "    ('forest', RandomForestClassifier(max_depth = 7, n_estimators = 7))\n",
    "])"
   ]
  },
  {
   "cell_type": "code",
   "execution_count": 14,
   "metadata": {},
   "outputs": [
    {
     "data": {
      "text/plain": [
       "Pipeline(steps=[('onehot', OneHotEncoder(handle_unknown='ignore')),\n",
       "                ('forest',\n",
       "                 RandomForestClassifier(max_depth=7, n_estimators=7))])"
      ]
     },
     "execution_count": 14,
     "metadata": {},
     "output_type": "execute_result"
    }
   ],
   "source": [
    "pl.fit(X_train, y_train)\n"
   ]
  },
  {
   "cell_type": "markdown",
   "metadata": {},
   "source": [
    "Having fit our training sets, let us calculate the accuracy on both our training and test sets to see how well out model performs"
   ]
  },
  {
   "cell_type": "code",
   "execution_count": 15,
   "metadata": {},
   "outputs": [
    {
     "data": {
      "text/plain": [
       "0.7550160329821347"
      ]
     },
     "execution_count": 15,
     "metadata": {},
     "output_type": "execute_result"
    }
   ],
   "source": [
    "pl.score(X_train, y_train)"
   ]
  },
  {
   "cell_type": "markdown",
   "metadata": {},
   "source": [
    "As seen above this model returns an Accuracy Score of **79%** on our training sets.\n",
    "\n",
    "Let us see how it performs on our test sets below:"
   ]
  },
  {
   "cell_type": "code",
   "execution_count": 16,
   "metadata": {},
   "outputs": [
    {
     "data": {
      "text/plain": [
       "0.7463588898048914"
      ]
     },
     "execution_count": 16,
     "metadata": {},
     "output_type": "execute_result"
    }
   ],
   "source": [
    "pl.score(X_test,y_test)"
   ]
  },
  {
   "cell_type": "markdown",
   "metadata": {},
   "source": [
    "As seen above it gives us even better result of **80%** on our test sets. Let us see if there are ways we can improve this accuracy score"
   ]
  },
  {
   "cell_type": "markdown",
   "metadata": {},
   "source": [
    "### Final Model"
   ]
  },
  {
   "cell_type": "markdown",
   "metadata": {},
   "source": [
    "One way we can improve the accuracy model, is to improve the Hyperparameters we feed into our *Random ForestClassfier()*"
   ]
  },
  {
   "cell_type": "markdown",
   "metadata": {},
   "source": [
    "In our Pipeline above, we have arbitrarily chose 10 for both parameters, but we can still find a more optimal combination to maximise accurancy .\n",
    "\n",
    " 2 such parameters for  _RandomForectClassifier()_  are:\n",
    " * max-depth \n",
    " * n_estimators \n",
    " \n",
    "We can use **GridSearch** to determine the best combination of parameters for our Pipeline model"
   ]
  },
  {
   "cell_type": "code",
   "execution_count": 17,
   "metadata": {},
   "outputs": [
    {
     "data": {
      "text/plain": [
       "{'forest__max_depth': array([ 2, 12, 22, 32, 42, 52, 62, 72, 82, 92]),\n",
       " 'forest__n_estimators': array([10, 12, 14, 16, 18, 20, 22, 24, 26, 28, 30, 32, 34, 36, 38, 40, 42,\n",
       "        44, 46, 48])}"
      ]
     },
     "execution_count": 17,
     "metadata": {},
     "output_type": "execute_result"
    }
   ],
   "source": [
    "hyperparameters = {\n",
    "    'forest__max_depth': np.arange(2, 100, 10),\n",
    "    'forest__n_estimators': np.arange(10,50,2)\n",
    "}\n",
    "\n",
    "hyperparameters"
   ]
  },
  {
   "cell_type": "code",
   "execution_count": 18,
   "metadata": {},
   "outputs": [],
   "source": [
    "from sklearn.model_selection import GridSearchCV"
   ]
  },
  {
   "cell_type": "code",
   "execution_count": null,
   "metadata": {},
   "outputs": [],
   "source": []
  },
  {
   "cell_type": "code",
   "execution_count": null,
   "metadata": {},
   "outputs": [],
   "source": []
  },
  {
   "cell_type": "code",
   "execution_count": 19,
   "metadata": {},
   "outputs": [
    {
     "data": {
      "text/plain": [
       "GridSearchCV(estimator=Pipeline(steps=[('onehot',\n",
       "                                        OneHotEncoder(handle_unknown='ignore')),\n",
       "                                       ('forest',\n",
       "                                        RandomForestClassifier(max_depth=7,\n",
       "                                                               n_estimators=7))]),\n",
       "             param_grid={'forest__max_depth': array([ 2, 12, 22, 32, 42, 52, 62, 72, 82, 92]),\n",
       "                         'forest__n_estimators': array([10, 12, 14, 16, 18, 20, 22, 24, 26, 28, 30, 32, 34, 36, 38, 40, 42,\n",
       "       44, 46, 48])},\n",
       "             return_train_score=True)"
      ]
     },
     "execution_count": 19,
     "metadata": {},
     "output_type": "execute_result"
    }
   ],
   "source": [
    "grids = GridSearchCV(pl, param_grid=hyperparameters, return_train_score=True)\n",
    "\n",
    "grids.fit(X_train, y_train)"
   ]
  },
  {
   "cell_type": "markdown",
   "metadata": {},
   "source": [
    "Having fit our training and groups into the grid object, we can see what out best combination of parameters are below:"
   ]
  },
  {
   "cell_type": "code",
   "execution_count": 20,
   "metadata": {},
   "outputs": [
    {
     "data": {
      "text/plain": [
       "{'forest__max_depth': 92, 'forest__n_estimators': 24}"
      ]
     },
     "execution_count": 20,
     "metadata": {},
     "output_type": "execute_result"
    }
   ],
   "source": [
    "grids.best_params_"
   ]
  },
  {
   "cell_type": "markdown",
   "metadata": {},
   "source": [
    "Having found the ideal combination, we test the accuracy on our training and test sets with new hyper-parameters to see if our accuracy has improved:"
   ]
  },
  {
   "cell_type": "code",
   "execution_count": 21,
   "metadata": {},
   "outputs": [
    {
     "data": {
      "text/plain": [
       "0.9964269354099863"
      ]
     },
     "execution_count": 21,
     "metadata": {},
     "output_type": "execute_result"
    }
   ],
   "source": [
    "grids.score(X_train, y_train)"
   ]
  },
  {
   "cell_type": "markdown",
   "metadata": {},
   "source": [
    "We then run the bottom cell to calculate the accuracy on our test models"
   ]
  },
  {
   "cell_type": "code",
   "execution_count": 22,
   "metadata": {},
   "outputs": [
    {
     "data": {
      "text/plain": [
       "0.9939543830722726"
      ]
     },
     "execution_count": 22,
     "metadata": {},
     "output_type": "execute_result"
    }
   ],
   "source": [
    "grids.score(X_test,y_test)"
   ]
  },
  {
   "cell_type": "markdown",
   "metadata": {},
   "source": [
    "This has shown a significant improvement in our accuracy for both the training and test sets.\n",
    "As a comparison our accuracy on the *Baseline Model* was = 74% and 75% on our training and testing models respectively."
   ]
  },
  {
   "cell_type": "markdown",
   "metadata": {},
   "source": [
    "### Fairness Evaluation"
   ]
  },
  {
   "cell_type": "markdown",
   "metadata": {},
   "source": [
    "Having developed a model with satisfactory accuracy we must now determine how fair our model is on the *type* subset of stock trades that took place\n",
    "\n",
    "I.e, We want to explore whether this model is fair for *'Purchase'* trades and *'Sale'* trades.\n"
   ]
  },
  {
   "cell_type": "code",
   "execution_count": 23,
   "metadata": {},
   "outputs": [
    {
     "data": {
      "text/html": [
       "<div>\n",
       "<style scoped>\n",
       "    .dataframe tbody tr th:only-of-type {\n",
       "        vertical-align: middle;\n",
       "    }\n",
       "\n",
       "    .dataframe tbody tr th {\n",
       "        vertical-align: top;\n",
       "    }\n",
       "\n",
       "    .dataframe thead th {\n",
       "        text-align: right;\n",
       "    }\n",
       "</style>\n",
       "<table border=\"1\" class=\"dataframe\">\n",
       "  <thead>\n",
       "    <tr style=\"text-align: right;\">\n",
       "      <th></th>\n",
       "      <th>representative</th>\n",
       "      <th>ticker</th>\n",
       "      <th>type</th>\n",
       "      <th>party</th>\n",
       "    </tr>\n",
       "  </thead>\n",
       "  <tbody>\n",
       "    <tr>\n",
       "      <th>0</th>\n",
       "      <td>Virginia Foxx</td>\n",
       "      <td>BP</td>\n",
       "      <td>1.0</td>\n",
       "      <td>1.0</td>\n",
       "    </tr>\n",
       "    <tr>\n",
       "      <th>1</th>\n",
       "      <td>Virginia Foxx</td>\n",
       "      <td>XOM</td>\n",
       "      <td>1.0</td>\n",
       "      <td>1.0</td>\n",
       "    </tr>\n",
       "    <tr>\n",
       "      <th>2</th>\n",
       "      <td>Virginia Foxx</td>\n",
       "      <td>ILPT</td>\n",
       "      <td>1.0</td>\n",
       "      <td>1.0</td>\n",
       "    </tr>\n",
       "    <tr>\n",
       "      <th>3</th>\n",
       "      <td>Virginia Foxx</td>\n",
       "      <td>PM</td>\n",
       "      <td>1.0</td>\n",
       "      <td>1.0</td>\n",
       "    </tr>\n",
       "    <tr>\n",
       "      <th>4</th>\n",
       "      <td>Alan S. Lowenthal</td>\n",
       "      <td>BLK</td>\n",
       "      <td>0.0</td>\n",
       "      <td>0.0</td>\n",
       "    </tr>\n",
       "    <tr>\n",
       "      <th>...</th>\n",
       "      <td>...</td>\n",
       "      <td>...</td>\n",
       "      <td>...</td>\n",
       "      <td>...</td>\n",
       "    </tr>\n",
       "    <tr>\n",
       "      <th>15959</th>\n",
       "      <td>Ed Perlmutter</td>\n",
       "      <td>SWK</td>\n",
       "      <td>0.0</td>\n",
       "      <td>0.0</td>\n",
       "    </tr>\n",
       "    <tr>\n",
       "      <th>15960</th>\n",
       "      <td>Ed Perlmutter</td>\n",
       "      <td>USB</td>\n",
       "      <td>0.0</td>\n",
       "      <td>0.0</td>\n",
       "    </tr>\n",
       "    <tr>\n",
       "      <th>15961</th>\n",
       "      <td>Nicholas Van Taylor</td>\n",
       "      <td>BMY</td>\n",
       "      <td>0.0</td>\n",
       "      <td>1.0</td>\n",
       "    </tr>\n",
       "    <tr>\n",
       "      <th>15962</th>\n",
       "      <td>Nicholas Van Taylor</td>\n",
       "      <td>LLY</td>\n",
       "      <td>0.0</td>\n",
       "      <td>1.0</td>\n",
       "    </tr>\n",
       "    <tr>\n",
       "      <th>15963</th>\n",
       "      <td>Nicholas Van Taylor</td>\n",
       "      <td>DIS</td>\n",
       "      <td>0.0</td>\n",
       "      <td>1.0</td>\n",
       "    </tr>\n",
       "  </tbody>\n",
       "</table>\n",
       "<p>14554 rows × 4 columns</p>\n",
       "</div>"
      ],
      "text/plain": [
       "            representative ticker  type  party\n",
       "0            Virginia Foxx     BP   1.0    1.0\n",
       "1            Virginia Foxx    XOM   1.0    1.0\n",
       "2            Virginia Foxx   ILPT   1.0    1.0\n",
       "3            Virginia Foxx     PM   1.0    1.0\n",
       "4        Alan S. Lowenthal    BLK   0.0    0.0\n",
       "...                    ...    ...   ...    ...\n",
       "15959        Ed Perlmutter    SWK   0.0    0.0\n",
       "15960        Ed Perlmutter    USB   0.0    0.0\n",
       "15961  Nicholas Van Taylor    BMY   0.0    1.0\n",
       "15962  Nicholas Van Taylor    LLY   0.0    1.0\n",
       "15963  Nicholas Van Taylor    DIS   0.0    1.0\n",
       "\n",
       "[14554 rows x 4 columns]"
      ]
     },
     "execution_count": 23,
     "metadata": {},
     "output_type": "execute_result"
    }
   ],
   "source": [
    "working_df"
   ]
  },
  {
   "cell_type": "markdown",
   "metadata": {},
   "source": [
    "We will use **accuracy** as our *parity measure* for the simple reason that there are no real ethical concerns that would make us want to use measures like *precision* or *return* on this data set, it is merely concerned with making a prediction on the party of a representative. \n",
    "\n",
    "Any False Negative or False Positives predicted by this model would not lead to any life-threatening or ethically concerning isses, therefore it is appropriate to just check for the accuracy of our model. "
   ]
  },
  {
   "cell_type": "markdown",
   "metadata": {},
   "source": [
    "We will use a Permutation test to test for fairness of our model by shuffling our **type** column to check for whether the predcited accuracy is fair or not.\n",
    "\n",
    "Our Null and Alternate Hyptheses are as follows:\n",
    "\n",
    "- **Null Hypothesis**: This model is fair; the accuracy for the *type* two subsets are roughly the same\n",
    "\n",
    "- **Alternative Hypothesis**: This model is unfair; the accuracy  for the *purchase* subset is higher than the *sale* subset\n",
    "\n",
    "\n",
    "\n",
    "Our observed test statistic for such a permuatation test would be our **final accuracy** on our testing set:\n",
    "i.e **0.9961** or roughly **99%** \n",
    "\n",
    "Our permutation test will be as follows:"
   ]
  },
  {
   "cell_type": "code",
   "execution_count": 24,
   "metadata": {},
   "outputs": [],
   "source": [
    "purch_prop = (working_df['type'].value_counts()/ len(working_df['type']))[1]\n",
    "sale_prop = (working_df['type'].value_counts()/ len(working_df['type']))[0]"
   ]
  },
  {
   "cell_type": "code",
   "execution_count": 25,
   "metadata": {},
   "outputs": [
    {
     "data": {
      "text/plain": [
       "0.515"
      ]
     },
     "execution_count": 25,
     "metadata": {},
     "output_type": "execute_result"
    },
    {
     "data": {
      "image/png": "[encoded data removed]",
      "text/plain": [
       "<Figure size 640x480 with 1 Axes>"
      ]
     },
     "metadata": {
      "image/png": {
       "height": 434,
       "width": 600
      }
     },
     "output_type": "display_data"
    }
   ],
   "source": [
    "observed_acc = 0.9961\n",
    "\n",
    "temp_working = working_df\n",
    "perm_test = Pipeline([\n",
    "    ('onehot', OneHotEncoder(handle_unknown = 'ignore')), \n",
    "    ('forest', RandomForestClassifier(max_depth = 92, n_estimators = 44))])\n",
    "\n",
    "results = []\n",
    "for _ in range(10000):\n",
    "    shuffled_types = np.random.choice([0,1],p = [purch_prop,sale_prop],size =len(working_df['type']))\n",
    "    temp_working['type'] = shuffled_types\n",
    "    temp_categ_df = temp_working[['representative','ticker', 'type']]\n",
    "\n",
    "    ## NEW X-y SPLIT WITH THE SHUFFLED TYPES\n",
    "    X = temp_categ_df\n",
    "    y = temp_working['party']\n",
    "    new_X_train, new_X_test, new_y_train, new_y_test = train_test_split(X, y, random_state = 1)\n",
    "    \n",
    "    perm_test.fit(new_X_train, new_y_train)\n",
    "    results.append(perm_test.score(new_X_test,new_y_test))\n",
    "    \n",
    "\n",
    "pd.Series(results).plot(kind = \"hist\",title = \"Accuracy Score Distribution of shuffled Types\")\n",
    "plt.axvline(x=observed_acc,color = \"red\", linewidth = 2)\n",
    "pval = (np.array(results)>=observed_acc).mean()\n",
    "pval # higher than 0.05 so do not reject the null"
   ]
  },
  {
   "cell_type": "markdown",
   "metadata": {},
   "source": [
    "We can see our p_value is greater than 0.05. \n",
    "\n",
    "This is greater than the 0.05 value indicated by a 95% confidence interval. As a result we\n",
    "**Fail to Reject the Null Hypothesis**, implying that our model can be considered fair."
   ]
  }
 ],
 "metadata": {
  "kernelspec": {
   "display_name": "Python 3 (ipykernel)",
   "language": "python",
   "name": "python3"
  },
  "language_info": {
   "codemirror_mode": {
    "name": "ipython",
    "version": 3
   },
   "file_extension": ".py",
   "mimetype": "text/x-python",
   "name": "python",
   "nbconvert_exporter": "python",
   "pygments_lexer": "ipython3",
   "version": "3.8.13"
  }
 },
 "nbformat": 4,
 "nbformat_minor": 2
}
